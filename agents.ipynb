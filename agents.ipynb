{
 "cells": [
  {
   "cell_type": "code",
   "execution_count": 3,
   "metadata": {},
   "outputs": [],
   "source": [
    "import torch\n",
    "import numpy as np\n",
    "import torchvision.transforms as transforms\n",
    "#from myRNN import RNN\n",
    "from time import sleep\n",
    "import sys\n",
    "#from expectimax import board_to_move\n",
    "#from game import Game\n",
    "#from displays import Display\n",
    "import csv, os\n",
    "#PATH = '/home/lqgao/2048-api/model/rnn_model_21.pkl'\n",
    "PATH = 'rnn_model_15.pkl'\n",
    "PATH2 = '/home/fengdahu/2048-api/model/rnn_model_20final.pkl'\n",
    "PATH1 = '/home/fengdahu/2048-api/model/myRNN3Random05Model50rate:0.pkl'\n",
    "dataSetFilename = 'Train.csv'"
   ]
  },
  {
   "cell_type": "code",
   "execution_count": 2,
   "metadata": {},
   "outputs": [],
   "source": [
    "class Agent:\n",
    "    '''Agent Base.'''\n",
    "\n",
    "    def __init__(self, game, display=None):\n",
    "        self.game = game\n",
    "        self.display = display\n",
    "\n",
    "    def play(self, max_iter=np.inf, verbose=False):\n",
    "        n_iter = 0\n",
    "        while (n_iter < max_iter) and (not self.game.end):\n",
    "            direction = self.step()\n",
    "            self.game.move(direction)\n",
    "            n_iter += 1\n",
    "            if verbose:\n",
    "                print(\"Iter: {}\".format(n_iter))\n",
    "                print(\"======Direction: {}======\".format(\n",
    "                    [\"left\", \"down\", \"right\", \"up\"][direction]))\n",
    "                if self.display is not None:\n",
    "                    self.display.display(self.game)\n",
    "\n",
    "    def step(self):\n",
    "        direction = int(input(\"0: left, 1: down, 2: right, 3: up = \")) % 4\n",
    "        return direction"
   ]
  },
  {
   "cell_type": "code",
   "execution_count": 4,
   "metadata": {},
   "outputs": [],
   "source": [
    "class MyAgent(Agent):\n",
    "\n",
    "    def __init__(self, game, display=None):\n",
    "        if game.size != 4:\n",
    "            raise ValueError(\n",
    "                \"`%s` can only work with game of `size` 4.\" % self.__class__.__name__)\n",
    "        super().__init__(game, display)\n",
    "        # from .expectimax import board_to_move\n",
    "        # self.search_func = board_to_move\n",
    "        # self.search_func = np.random.randint(0, 4)\n",
    "\n",
    "        self.model = torch.load(PATH)\n",
    "        self.model.eval()\n",
    "\n",
    "    def step(self):\n",
    "\n",
    "        # tmp = self.game.board.flatten()\n",
    "        # print(board)\n",
    "        board = np.where(self.game.board == 0, 1, self.game.board)\n",
    "        board = np.log2(board)\n",
    "        # print(board)\n",
    "        board = board.reshape((4, 4))\n",
    "        # sleep(3600)\n",
    "        board = board[:, :, np.newaxis]\n",
    "        board = board / 11.0\n",
    "        trans = transforms.Compose([transforms.ToTensor()])\n",
    "        board = trans(board)\n",
    "        board = torch.unsqueeze(board, dim=0)\n",
    "        board = board.type(torch.float)\n",
    "        out = self.model(board)\n",
    "        direction = torch.max(out, 1)[1]\n",
    "        return int(direction)"
   ]
  },
  {
   "cell_type": "code",
   "execution_count": null,
   "metadata": {},
   "outputs": [],
   "source": []
  }
 ],
 "metadata": {
  "kernelspec": {
   "display_name": "Python 3",
   "language": "python",
   "name": "python3"
  },
  "language_info": {
   "codemirror_mode": {
    "name": "ipython",
    "version": 3
   },
   "file_extension": ".py",
   "mimetype": "text/x-python",
   "name": "python",
   "nbconvert_exporter": "python",
   "pygments_lexer": "ipython3",
   "version": "3.7.4"
  }
 },
 "nbformat": 4,
 "nbformat_minor": 2
}
